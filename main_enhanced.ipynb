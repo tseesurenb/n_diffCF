{
 "cells": [
  {
   "cell_type": "code",
   "execution_count": 1,
   "metadata": {},
   "outputs": [
    {
     "name": "stdout",
     "output_type": "stream",
     "text": [
      "Device: cpu\n"
     ]
    },
    {
     "name": "stderr",
     "output_type": "stream",
     "text": [
      "\u001b[34m\u001b[1mwandb\u001b[0m: Using wandb-core as the SDK backend.  Please refer to https://wandb.me/wandb-core for more information.\n",
      "\u001b[34m\u001b[1mwandb\u001b[0m: Currently logged in as: \u001b[33mtseesuren\u001b[0m (\u001b[33mtseesuren-novelsoft\u001b[0m) to \u001b[32mhttps://api.wandb.ai\u001b[0m. Use \u001b[1m`wandb login --relogin`\u001b[0m to force relogin\n"
     ]
    },
    {
     "data": {
      "text/html": [
       "Tracking run with wandb version 0.19.7"
      ],
      "text/plain": [
       "<IPython.core.display.HTML object>"
      ]
     },
     "metadata": {},
     "output_type": "display_data"
    },
    {
     "data": {
      "text/html": [
       "Run data is saved locally in <code>/Users/tseesurenb/Desktop/Research/Models/n_diffCF_2/wandb/run-20250323_130446-ch94yty0</code>"
      ],
      "text/plain": [
       "<IPython.core.display.HTML object>"
      ]
     },
     "metadata": {},
     "output_type": "display_data"
    },
    {
     "data": {
      "text/html": [
       "Syncing run <strong><a href='https://wandb.ai/tseesuren-novelsoft/diffRec/runs/ch94yty0' target=\"_blank\">legendary-puddle-128</a></strong> to <a href='https://wandb.ai/tseesuren-novelsoft/diffRec' target=\"_blank\">Weights & Biases</a> (<a href='https://wandb.me/developer-guide' target=\"_blank\">docs</a>)<br>"
      ],
      "text/plain": [
       "<IPython.core.display.HTML object>"
      ]
     },
     "metadata": {},
     "output_type": "display_data"
    },
    {
     "data": {
      "text/html": [
       " View project at <a href='https://wandb.ai/tseesuren-novelsoft/diffRec' target=\"_blank\">https://wandb.ai/tseesuren-novelsoft/diffRec</a>"
      ],
      "text/plain": [
       "<IPython.core.display.HTML object>"
      ]
     },
     "metadata": {},
     "output_type": "display_data"
    },
    {
     "data": {
      "text/html": [
       " View run at <a href='https://wandb.ai/tseesuren-novelsoft/diffRec/runs/ch94yty0' target=\"_blank\">https://wandb.ai/tseesuren-novelsoft/diffRec/runs/ch94yty0</a>"
      ],
      "text/plain": [
       "<IPython.core.display.HTML object>"
      ]
     },
     "metadata": {},
     "output_type": "display_data"
    },
    {
     "name": "stdout",
     "output_type": "stream",
     "text": [
      "user num: 5949\n",
      "item num: 2810\n",
      "Loaded dataset with 5949 users and 2810 items.\n",
      "Precomputing user similarity data...\n",
      "Loading precomputed similarity data from cache...\n",
      "Precomputed similarity data set successfully.\n"
     ]
    },
    {
     "name": "stderr",
     "output_type": "stream",
     "text": [
      "/Users/tseesurenb/Desktop/Research/Models/n_diffCF_2/user_similarity.py:227: FutureWarning: You are using `torch.load` with `weights_only=False` (the current default value), which uses the default pickle module implicitly. It is possible to construct malicious pickle data which will execute arbitrary code during unpickling (See https://github.com/pytorch/pytorch/blob/main/SECURITY.md#untrusted-models for more details). In a future release, the default value for `weights_only` will be flipped to `True`. This limits the functions that could be executed during unpickling. Arbitrary objects will no longer be allowed to be loaded via this mode unless they are explicitly allowlisted by the user via `torch.serialization.add_safe_globals`. We recommend you start setting `weights_only=True` for any use case where you don't have full control of the loaded file. Please open an issue on GitHub for any issues related to this experimental feature.\n",
      "  similarity_matrix = torch.load(sim_matrix_path)\n",
      "/Users/tseesurenb/Desktop/Research/Models/n_diffCF_2/user_similarity.py:228: FutureWarning: You are using `torch.load` with `weights_only=False` (the current default value), which uses the default pickle module implicitly. It is possible to construct malicious pickle data which will execute arbitrary code during unpickling (See https://github.com/pytorch/pytorch/blob/main/SECURITY.md#untrusted-models for more details). In a future release, the default value for `weights_only` will be flipped to `True`. This limits the functions that could be executed during unpickling. Arbitrary objects will no longer be allowed to be loaded via this mode unless they are explicitly allowlisted by the user via `torch.serialization.add_safe_globals`. We recommend you start setting `weights_only=True` for any use case where you don't have full control of the loaded file. Please open an issue on GitHub for any issues related to this experimental feature.\n",
      "  top_k_similar_users = torch.load(top_k_users_path)\n",
      "/Users/tseesurenb/Desktop/Research/Models/n_diffCF_2/user_similarity.py:229: FutureWarning: You are using `torch.load` with `weights_only=False` (the current default value), which uses the default pickle module implicitly. It is possible to construct malicious pickle data which will execute arbitrary code during unpickling (See https://github.com/pytorch/pytorch/blob/main/SECURITY.md#untrusted-models for more details). In a future release, the default value for `weights_only` will be flipped to `True`. This limits the functions that could be executed during unpickling. Arbitrary objects will no longer be allowed to be loaded via this mode unless they are explicitly allowlisted by the user via `torch.serialization.add_safe_globals`. We recommend you start setting `weights_only=True` for any use case where you don't have full control of the loaded file. Please open an issue on GitHub for any issues related to this experimental feature.\n",
      "  top_k_similarities = torch.load(top_k_scores_path)\n"
     ]
    },
    {
     "name": "stdout",
     "output_type": "stream",
     "text": [
      "Models initialized successfully.\n",
      "Number of all parameters: 3622320\n",
      "\n",
      "==================================================\n",
      "Starting training with DM+KNN post-processing...\n",
      "==================================================\n"
     ]
    },
    {
     "name": "stderr",
     "output_type": "stream",
     "text": [
      "Epoch 005 | Loss 39.9367:   1%|          | 4/350 [00:02<03:18,  1.74it/s]                          "
     ]
    },
    {
     "name": "stdout",
     "output_type": "stream",
     "text": [
      "\n",
      "Evaluating model...\n",
      "Evaluating: 100.0%\n",
      "Evaluating: 100.0%\n"
     ]
    },
    {
     "name": "stderr",
     "output_type": "stream",
     "text": [
      "Epoch 005 completed | Loss 39.9367 | Time 00:00:18:   1%|▏         | 5/350 [00:20<40:32,  7.05s/it, test_ndcg=0.106, test_recall=0.16, valid_ndcg=0.0953, valid_recall=0.105]"
     ]
    },
    {
     "name": "stdout",
     "output_type": "stream",
     "text": [
      "Saved best model at epoch 5 with recall 0.1053\n"
     ]
    },
    {
     "name": "stderr",
     "output_type": "stream",
     "text": [
      "Epoch 010 | Loss 35.0263:   3%|▎         | 9/350 [00:23<10:54,  1.92s/it, test_ndcg=0.106, test_recall=0.16, valid_ndcg=0.0953, valid_recall=0.105]                          "
     ]
    },
    {
     "name": "stdout",
     "output_type": "stream",
     "text": [
      "\n",
      "Evaluating model...\n",
      "Evaluating: 100.0%\n",
      "Evaluating: 100.0%\n"
     ]
    },
    {
     "name": "stderr",
     "output_type": "stream",
     "text": [
      "Epoch 010 completed | Loss 35.0263 | Time 00:00:18:   3%|▎         | 10/350 [00:41<39:51,  7.03s/it, test_ndcg=0.106, test_recall=0.16, valid_ndcg=0.0955, valid_recall=0.106]"
     ]
    },
    {
     "name": "stdout",
     "output_type": "stream",
     "text": [
      "Saved best model at epoch 10 with recall 0.1061\n"
     ]
    },
    {
     "name": "stderr",
     "output_type": "stream",
     "text": [
      "Epoch 015 | Loss 32.4757:   4%|▍         | 14/350 [00:44<11:41,  2.09s/it, test_ndcg=0.106, test_recall=0.16, valid_ndcg=0.0955, valid_recall=0.106]                          "
     ]
    },
    {
     "name": "stdout",
     "output_type": "stream",
     "text": [
      "\n",
      "Evaluating model...\n",
      "Evaluating: 100.0%\n",
      "Evaluating: 100.0%\n"
     ]
    },
    {
     "name": "stderr",
     "output_type": "stream",
     "text": [
      "Epoch 020 | Loss 31.3955:   5%|▌         | 19/350 [01:05<11:39,  2.11s/it, test_ndcg=0.106, test_recall=0.161, valid_ndcg=0.0956, valid_recall=0.106]                          "
     ]
    },
    {
     "name": "stdout",
     "output_type": "stream",
     "text": [
      "\n",
      "Evaluating model...\n",
      "Evaluating: 100.0%\n",
      "Evaluating: 100.0%\n"
     ]
    },
    {
     "name": "stderr",
     "output_type": "stream",
     "text": [
      "Epoch 025 | Loss 30.2977:   7%|▋         | 24/350 [01:26<11:35,  2.13s/it, test_ndcg=0.106, test_recall=0.162, valid_ndcg=0.0954, valid_recall=0.106]                          "
     ]
    },
    {
     "name": "stdout",
     "output_type": "stream",
     "text": [
      "\n",
      "Evaluating model...\n",
      "Evaluating: 100.0%\n",
      "Evaluating: 100.0%\n"
     ]
    },
    {
     "name": "stderr",
     "output_type": "stream",
     "text": [
      "Epoch 025 completed | Loss 30.2977 | Time 00:00:18:   7%|▋         | 25/350 [01:44<38:52,  7.18s/it, test_ndcg=0.107, test_recall=0.162, valid_ndcg=0.0955, valid_recall=0.106]"
     ]
    },
    {
     "name": "stdout",
     "output_type": "stream",
     "text": [
      "Saved best model at epoch 25 with recall 0.1063\n"
     ]
    },
    {
     "name": "stderr",
     "output_type": "stream",
     "text": [
      "Epoch 030 | Loss 29.4052:   8%|▊         | 29/350 [01:47<11:32,  2.16s/it, test_ndcg=0.107, test_recall=0.162, valid_ndcg=0.0955, valid_recall=0.106]                          "
     ]
    },
    {
     "name": "stdout",
     "output_type": "stream",
     "text": [
      "\n",
      "Evaluating model...\n",
      "Evaluating: 100.0%\n",
      "Evaluating: 100.0%\n"
     ]
    },
    {
     "name": "stderr",
     "output_type": "stream",
     "text": [
      "Epoch 030 completed | Loss 29.4052 | Time 00:00:18:   9%|▊         | 30/350 [02:05<37:36,  7.05s/it, test_ndcg=0.107, test_recall=0.162, valid_ndcg=0.0955, valid_recall=0.106]"
     ]
    },
    {
     "name": "stdout",
     "output_type": "stream",
     "text": [
      "Saved best model at epoch 30 with recall 0.1064\n"
     ]
    },
    {
     "name": "stderr",
     "output_type": "stream",
     "text": [
      "Epoch 035 | Loss 28.4664:  10%|▉         | 34/350 [02:08<11:21,  2.16s/it, test_ndcg=0.107, test_recall=0.162, valid_ndcg=0.0955, valid_recall=0.106]                          "
     ]
    },
    {
     "name": "stdout",
     "output_type": "stream",
     "text": [
      "\n",
      "Evaluating model...\n",
      "Evaluating: 100.0%\n",
      "Evaluating: 100.0%\n"
     ]
    },
    {
     "name": "stderr",
     "output_type": "stream",
     "text": [
      "Epoch 035 completed | Loss 28.4664 | Time 00:00:20:  10%|█         | 35/350 [02:28<40:32,  7.72s/it, test_ndcg=0.107, test_recall=0.163, valid_ndcg=0.0956, valid_recall=0.107]"
     ]
    },
    {
     "name": "stdout",
     "output_type": "stream",
     "text": [
      "Saved best model at epoch 35 with recall 0.1066\n"
     ]
    },
    {
     "name": "stderr",
     "output_type": "stream",
     "text": [
      "Epoch 040 | Loss 28.2733:  11%|█         | 39/350 [02:31<12:16,  2.37s/it, test_ndcg=0.107, test_recall=0.163, valid_ndcg=0.0956, valid_recall=0.107]                          "
     ]
    },
    {
     "name": "stdout",
     "output_type": "stream",
     "text": [
      "\n",
      "Evaluating model...\n",
      "Evaluating: 100.0%\n",
      "Evaluating: 100.0%\n"
     ]
    },
    {
     "name": "stderr",
     "output_type": "stream",
     "text": [
      "Epoch 045 | Loss 27.4255:  13%|█▎        | 44/350 [02:54<11:58,  2.35s/it, test_ndcg=0.107, test_recall=0.163, valid_ndcg=0.0956, valid_recall=0.107]                          "
     ]
    },
    {
     "name": "stdout",
     "output_type": "stream",
     "text": [
      "\n",
      "Evaluating model...\n",
      "Evaluating: 100.0%\n",
      "Evaluating: 100.0%\n"
     ]
    },
    {
     "name": "stderr",
     "output_type": "stream",
     "text": [
      "Epoch 050 | Loss 27.2872:  14%|█▍        | 49/350 [03:16<11:29,  2.29s/it, test_ndcg=0.107, test_recall=0.163, valid_ndcg=0.0956, valid_recall=0.107]                          "
     ]
    },
    {
     "name": "stdout",
     "output_type": "stream",
     "text": [
      "\n",
      "Evaluating model...\n",
      "Evaluating: 100.0%\n",
      "Evaluating: 100.0%\n"
     ]
    },
    {
     "name": "stderr",
     "output_type": "stream",
     "text": [
      "Epoch 055 | Loss 26.6068:  15%|█▌        | 54/350 [03:39<11:12,  2.27s/it, test_ndcg=0.107, test_recall=0.163, valid_ndcg=0.0955, valid_recall=0.107]                          "
     ]
    },
    {
     "name": "stdout",
     "output_type": "stream",
     "text": [
      "\n",
      "Evaluating model...\n",
      "Evaluating: 100.0%\n",
      "Evaluating: 100.0%\n"
     ]
    },
    {
     "name": "stderr",
     "output_type": "stream",
     "text": [
      "Epoch 060 | Loss 26.3432:  17%|█▋        | 59/350 [04:01<10:55,  2.25s/it, test_ndcg=0.107, test_recall=0.163, valid_ndcg=0.0955, valid_recall=0.106]                          "
     ]
    },
    {
     "name": "stdout",
     "output_type": "stream",
     "text": [
      "\n",
      "Evaluating model...\n",
      "Evaluating: 100.0%\n",
      "Evaluating: 100.0%\n"
     ]
    },
    {
     "name": "stderr",
     "output_type": "stream",
     "text": [
      "Early stopping at epoch 65:  18%|█▊        | 64/350 [04:22<19:32,  4.10s/it, test_ndcg=0.107, test_recall=0.163, valid_ndcg=0.0955, valid_recall=0.107]                        \n"
     ]
    },
    {
     "name": "stdout",
     "output_type": "stream",
     "text": [
      "======================================================\n",
      "Training complete. Best Epoch 035\n",
      "[Valid]: Precision: 0.0698-0.0637 Recall: 0.0599-0.1066 NDCG: 0.0835-0.0956 MRR: 0.174-0.174\n",
      "[Test]: Precision: 0.0575-0.0516 Recall: 0.0923-0.1625 NDCG: 0.0841-0.1068 MRR: 0.1524-0.1524\n",
      "Training progress plot saved to training_progress_dm_knn_post_120_0.8.png\n",
      "\n",
      "Experiment completed successfully!\n"
     ]
    },
    {
     "data": {
      "image/png": "[encoded data removed]",
      "text/plain": [
       "<Figure size 1200x1000 with 2 Axes>"
      ]
     },
     "metadata": {},
     "output_type": "display_data"
    }
   ],
   "source": [
    "import os\n",
    "import argparse\n",
    "import torch\n",
    "import sys\n",
    "import numpy as np\n",
    "from torch.utils.data import DataLoader\n",
    "import matplotlib.pyplot as plt\n",
    "import time\n",
    "\n",
    "# Import our modified components\n",
    "from models.enhanced_gaussian_diffusion_knn import EnhancedGaussianDiffusionKNN, ModelMeanType\n",
    "from models.DNN import DNN\n",
    "from enhanced_evaluation import enhanced_evaluate\n",
    "import data_utils\n",
    "from user_similarity import precompute_similarity_data\n",
    "import utils\n",
    "from tqdm import tqdm\n",
    "from efficient_knn_utils import efficient_batch_sampling\n",
    "\n",
    "# Set command line arguments for Jupyter notebook environment\n",
    "sys.argv = ['diffusion_training.py', '--dataset', 'ml-1m', '--data_path', 'data/', \n",
    "           '--batch_size', '400', '--epochs', '350', '--use_similarity', 'True',\n",
    "           '--top_k', '120', '--gamma', '0.8', '--temperature', '0.2', '--lr', '0.0001', '--steps', '40', '--noise_scale', '0.0001', '--noise_min', '0.005', '--noise_max', '0.01',]\n",
    "\n",
    "\n",
    "def set_seed(seed=42):\n",
    "    \"\"\"Set random seeds for reproducibility.\"\"\"\n",
    "    torch.manual_seed(seed)\n",
    "    torch.cuda.manual_seed(seed)\n",
    "    np.random.seed(seed)\n",
    "    import random\n",
    "    random.seed(seed)\n",
    "    torch.backends.cudnn.deterministic = True\n",
    "\n",
    "def worker_init_fn(worker_id):\n",
    "    \"\"\"Initialize workers with different random seeds.\"\"\"\n",
    "    np.random.seed(np.random.get_state()[1][0] + worker_id)\n",
    "\n",
    "def parse_args():\n",
    "    \"\"\"Parse command line arguments.\"\"\"\n",
    "    parser = argparse.ArgumentParser()\n",
    "    parser.add_argument('--dataset', type=str, default='ml-1m', help='choose the dataset')\n",
    "    parser.add_argument('--data_path', type=str, default='data/', help='load data path')\n",
    "    parser.add_argument('--lr', type=float, default=0.0001, help='learning rate')\n",
    "    parser.add_argument('--weight_decay', type=float, default=0.0)\n",
    "    parser.add_argument('--batch_size', type=int, default=400)\n",
    "    parser.add_argument('--epochs', type=int, default=150, help='upper epoch limit')\n",
    "    parser.add_argument('--topN', type=str, default='[10, 20]')\n",
    "    parser.add_argument('--cuda', action='store_true', help='use CUDA')\n",
    "    parser.add_argument('--gpu', type=str, default='0', help='gpu card ID')\n",
    "    parser.add_argument('--save_path', type=str, default='./saved_models/', help='save model path')\n",
    "    \n",
    "    # Params for the model\n",
    "    parser.add_argument('--time_type', type=str, default='cat', help='cat or add')\n",
    "    parser.add_argument('--dims', type=str, default='[200, 600]', help='the dims for the DNN')\n",
    "    parser.add_argument('--norm', type=bool, default=False, help='Normalize the input or not')\n",
    "    parser.add_argument('--emb_size', type=int, default=10, help='timestep embedding size')\n",
    "\n",
    "    # Params for diffusion\n",
    "    parser.add_argument('--mean_type', type=str, default='x0', help='MeanType for diffusion: x0, eps')\n",
    "    parser.add_argument('--steps', type=int, default=100, help='diffusion steps')\n",
    "    parser.add_argument('--noise_schedule', type=str, default='linear-var', help='the schedule for noise generating')\n",
    "    parser.add_argument('--noise_scale', type=float, default=0.1, help='noise scale for noise generating')\n",
    "    parser.add_argument('--noise_min', type=float, default=0.0001, help='noise lower bound for noise generating')\n",
    "    parser.add_argument('--noise_max', type=float, default=0.02, help='noise upper bound for noise generating')\n",
    "    parser.add_argument('--sampling_noise', type=bool, default=False, help='sampling with noise or not')\n",
    "    parser.add_argument('--sampling_steps', type=int, default=0, help='steps of the forward process during inference')\n",
    "    parser.add_argument('--reweight', type=bool, default=True, help='assign different weight to different timestep or not')\n",
    "\n",
    "    # Params for user similarity\n",
    "    parser.add_argument('--use_similarity', type=bool, default=True, help='use user similarity aggregation')\n",
    "    parser.add_argument('--top_k', type=int, default=35, help='number of similar users for aggregation')\n",
    "    parser.add_argument('--gamma', type=float, default=0.7, help='weight for user vector vs similar users')\n",
    "    parser.add_argument('--temperature', type=float, default=0.5, help='temperature for weighted averaging')\n",
    "    \n",
    "    return parser.parse_args()\n",
    "\n",
    "def main():\n",
    "    \"\"\"Main function to run the DM+KNN integrated model.\"\"\"\n",
    "    # Set up device\n",
    "    device = \"cuda\" if torch.cuda.is_available() else \"cpu\"\n",
    "    print(f\"Device: {device}\")\n",
    "    \n",
    "    # Parse arguments\n",
    "    args = parse_args()\n",
    "    \n",
    "    # Import wandb here to avoid loading it if not needed\n",
    "    try:\n",
    "        import wandb\n",
    "        # Start a new wandb run\n",
    "        run = wandb.init(\n",
    "            project=\"diffRec\",\n",
    "            config={\n",
    "                \"learning_rate\": args.lr,\n",
    "                \"architecture\": \"DM+KNN-Post\",  # Renamed to reflect post-diffusion KNN application\n",
    "                \"dataset\": args.dataset,\n",
    "                \"epochs\": args.epochs,\n",
    "                \"batch_size\": args.batch_size,\n",
    "                \"top_k\": args.top_k,\n",
    "                \"gamma\": args.gamma,\n",
    "                \"temperature\": args.temperature,\n",
    "                \"use_similarity\": args.use_similarity\n",
    "            },\n",
    "        )\n",
    "    except ImportError:\n",
    "        print(\"WandB not installed, proceeding without logging\")\n",
    "        run = None\n",
    "    \n",
    "    # Set random seed for reproducibility\n",
    "    set_seed(42)\n",
    "    \n",
    "    # Load data\n",
    "    train_path = os.path.join(args.data_path, args.dataset, 'train_list.npy')\n",
    "    valid_path = os.path.join(args.data_path, args.dataset, 'valid_list.npy')\n",
    "    test_path = os.path.join(args.data_path, args.dataset, 'test_list.npy')\n",
    "    \n",
    "    try:\n",
    "        train_data, valid_y_data, test_y_data, n_user, n_item = data_utils.data_load(train_path, valid_path, test_path)\n",
    "        print(f\"Loaded dataset with {n_user} users and {n_item} items.\")\n",
    "    except FileNotFoundError as e:\n",
    "        print(f\"Error loading data: {e}\")\n",
    "        print(\"Please make sure the dataset exists in the specified path.\")\n",
    "        sys.exit(1)\n",
    "    \n",
    "    # Create data loaders\n",
    "    train_dataset = data_utils.DataDiffusion(torch.FloatTensor(train_data.A))\n",
    "    train_loader = DataLoader(train_dataset, batch_size=args.batch_size, pin_memory=True, \n",
    "                           shuffle=True, num_workers=0, worker_init_fn=worker_init_fn)\n",
    "    test_loader = DataLoader(train_dataset, batch_size=args.batch_size, shuffle=False)\n",
    "    \n",
    "    mask_tv = train_data + valid_y_data\n",
    "\n",
    "    # Build Enhanced Gaussian Diffusion with KNN\n",
    "    if args.mean_type == 'x0':\n",
    "        mean_type = ModelMeanType.START_X\n",
    "    elif args.mean_type == 'eps':\n",
    "        mean_type = ModelMeanType.EPSILON\n",
    "    else:\n",
    "        raise ValueError(\"Unimplemented mean type %s\" % args.mean_type)\n",
    "\n",
    "    diffusion = EnhancedGaussianDiffusionKNN(\n",
    "        mean_type=mean_type, \n",
    "        noise_schedule=args.noise_schedule,\n",
    "        noise_scale=args.noise_scale, \n",
    "        noise_min=args.noise_min, \n",
    "        noise_max=args.noise_max, \n",
    "        steps=args.steps, \n",
    "        device=device,\n",
    "        top_k=args.top_k,\n",
    "        gamma=args.gamma,\n",
    "        use_similarity=args.use_similarity,\n",
    "        temperature=args.temperature\n",
    "    ).to(device)\n",
    "    \n",
    "    # Set sampling parameters\n",
    "    diffusion.sampling_steps = args.sampling_steps\n",
    "    diffusion.sampling_noise = args.sampling_noise\n",
    "\n",
    "    print(\"Precomputing user similarity data...\")\n",
    "    # Precompute or load similarity data from cache\n",
    "    similarity_matrix, top_k_similar_users, top_k_similarities = precompute_similarity_data(\n",
    "        train_data, top_k=args.top_k, save_path='./cache/'\n",
    "    )\n",
    "    \n",
    "    # Use the precomputed data with the dedicated method\n",
    "    diffusion.set_precomputed_similarity_data(\n",
    "        similarity_matrix,\n",
    "        top_k_similar_users,\n",
    "        top_k_similarities,\n",
    "        torch.FloatTensor(train_data.A).to(device)\n",
    "    )\n",
    "    \n",
    "    # Build MLP\n",
    "    out_dims = eval(args.dims) + [n_item]\n",
    "    in_dims = out_dims[::-1]\n",
    "    model = DNN(in_dims, out_dims, args.emb_size, time_type=\"cat\", norm=args.norm).to(device)\n",
    "\n",
    "    optimizer = torch.optim.AdamW(model.parameters(), lr=args.lr, weight_decay=args.weight_decay)\n",
    "    print(\"Models initialized successfully.\")\n",
    "\n",
    "    param_num = 0\n",
    "    mlp_num = sum([param.nelement() for param in model.parameters()])\n",
    "    diff_num = sum([param.nelement() for param in diffusion.parameters()])  # Should be 0\n",
    "    param_num = mlp_num + diff_num\n",
    "    print(\"Number of all parameters:\", param_num)\n",
    "\n",
    "    print(\"\\n\" + \"=\"*50)\n",
    "    print(\"Starting training with DM+KNN post-processing...\")\n",
    "    print(\"=\"*50)\n",
    "    \n",
    "    # Training metrics tracking\n",
    "    all_epochs = []\n",
    "    train_losses = []\n",
    "    valid_recalls = []\n",
    "    test_recalls = []\n",
    "    \n",
    "    best_recall, best_epoch = -100, 0\n",
    "    best_results = None\n",
    "    best_test_results = None\n",
    "    \n",
    "    # Initialize tqdm for epoch-level progress bar\n",
    "    pbar = tqdm(range(1, args.epochs + 1), \n",
    "                bar_format='{l_bar}{bar}{r_bar}',\n",
    "                desc=\"Training progress\")\n",
    "\n",
    "    for epoch in pbar:\n",
    "        if epoch - best_epoch >= 30:\n",
    "            pbar.set_description(f\"Early stopping at epoch {epoch}\")\n",
    "            break\n",
    "        \n",
    "        model.train()\n",
    "        start_time = time.time()\n",
    "        \n",
    "        batch_count = 0\n",
    "        total_loss = 0.0\n",
    "        \n",
    "        # Training loop\n",
    "        for batch_idx, batch in enumerate(train_loader):\n",
    "            # Get batch indices for enhanced sampling and training\n",
    "            batch_start = batch_idx * args.batch_size\n",
    "            batch_end = min(batch_start + len(batch), n_user)\n",
    "            batch_indices = torch.arange(batch_start, batch_end, device=device)\n",
    "            \n",
    "            batch = batch.to(device)\n",
    "            batch_count += 1\n",
    "            optimizer.zero_grad()\n",
    "            \n",
    "            # Since KNN is now a post-processing step, we use standard diffusion training\n",
    "            # without mixing KNN during the training process\n",
    "            losses = diffusion.training_losses(model, batch, None, args.reweight)\n",
    "                \n",
    "            loss = losses[\"loss\"].mean()\n",
    "            total_loss += loss.item()\n",
    "            loss.backward()\n",
    "            optimizer.step()\n",
    "\n",
    "        # Update the progress bar description with the final loss\n",
    "        pbar.set_description(f\"Epoch {epoch:03d} | Loss {total_loss:.4f}\")\n",
    "\n",
    "        # Evaluation every 5 epochs\n",
    "        if epoch % 5 == 0:\n",
    "            # Use the enhanced evaluation function with KNN\n",
    "            print(\"\\nEvaluating model...\")\n",
    "            valid_results = enhanced_evaluate(\n",
    "                diffusion, model, test_loader, valid_y_data, train_data, eval(args.topN)\n",
    "            )\n",
    "            test_results = enhanced_evaluate(\n",
    "                diffusion, model, test_loader, test_y_data, mask_tv, eval(args.topN)\n",
    "            )\n",
    "            \n",
    "            # Format evaluation results\n",
    "            valid_recall = valid_results[1][1]  # recall@20\n",
    "            test_recall = test_results[1][1]\n",
    "            valid_ndcg = valid_results[2][1]  # NDCG@20\n",
    "            test_ndcg = test_results[2][1]\n",
    "            \n",
    "            if run is not None:\n",
    "                run.log({\n",
    "                    \"epoch\": epoch,\n",
    "                    \"Recall/Valid\": valid_recall, \n",
    "                    \"Recall/Test\": test_recall,\n",
    "                    \"NDCG/Valid\": valid_ndcg,\n",
    "                    \"NDCG/Test\": test_ndcg,\n",
    "                    \"Loss/Total\": total_loss\n",
    "                })\n",
    "            \n",
    "            # Store metrics for plotting\n",
    "            all_epochs.append(epoch)\n",
    "            train_losses.append(total_loss)\n",
    "            valid_recalls.append(valid_recall)\n",
    "            test_recalls.append(test_recall)\n",
    "            \n",
    "            # Update the progress bar with the metrics\n",
    "            pbar.set_postfix(valid_recall=valid_recall, test_recall=test_recall,\n",
    "                           valid_ndcg=valid_ndcg, test_ndcg=test_ndcg)\n",
    "            \n",
    "            # Check for the best results and save model if improved\n",
    "            if valid_recall > best_recall:  # recall@20 as selection\n",
    "                best_recall, best_epoch = valid_recall, epoch\n",
    "                best_results = valid_results\n",
    "                best_test_results = test_results\n",
    "                \n",
    "                # Save the model with the best performance\n",
    "                if not os.path.exists(args.save_path):\n",
    "                    os.makedirs(args.save_path)\n",
    "                model_save_path = f'{args.save_path}{args.dataset}_dm_knn_post_{args.top_k}_{args.gamma}_{epoch}.pth'\n",
    "                torch.save({\n",
    "                    'epoch': epoch,\n",
    "                    'model_state_dict': model.state_dict(),\n",
    "                    'optimizer_state_dict': optimizer.state_dict(),\n",
    "                    'best_recall': best_recall,\n",
    "                    'config': {\n",
    "                        'top_k': args.top_k,\n",
    "                        'gamma': args.gamma,\n",
    "                        'use_similarity': args.use_similarity,\n",
    "                        'temperature': args.temperature\n",
    "                    }\n",
    "                }, model_save_path)\n",
    "                \n",
    "                print(f\"Saved best model at epoch {epoch} with recall {best_recall:.4f}\")\n",
    "\n",
    "        # Log epoch completion\n",
    "        elapsed = time.time() - start_time\n",
    "        pbar.set_description(f\"Epoch {epoch:03d} completed | Loss {total_loss:.4f} | Time {time.strftime('%H:%M:%S', time.gmtime(elapsed))}\")\n",
    "\n",
    "    # Final results\n",
    "    print('='*54)\n",
    "    print(f\"Training complete. Best Epoch {best_epoch:03d}\")\n",
    "    utils.print_results(None, best_results, best_test_results)\n",
    "    \n",
    "    # Plot training progress\n",
    "    plt.figure(figsize=(12, 10))\n",
    "    \n",
    "    plt.subplot(2, 1, 1)\n",
    "    plt.plot(all_epochs, train_losses)\n",
    "    plt.xlabel('Epoch')\n",
    "    plt.ylabel('Training Loss')\n",
    "    plt.title('Training Loss vs. Epoch')\n",
    "    plt.grid(True)\n",
    "    \n",
    "    plt.subplot(2, 1, 2)\n",
    "    plt.plot(all_epochs, valid_recalls, label='Validation Recall@20')\n",
    "    plt.plot(all_epochs, test_recalls, label='Test Recall@20')\n",
    "    plt.xlabel('Epoch')\n",
    "    plt.ylabel('Recall@20')\n",
    "    plt.title('Recall@20 vs. Epoch')\n",
    "    plt.legend()\n",
    "    plt.grid(True)\n",
    "    \n",
    "    plt.tight_layout()\n",
    "    plt.savefig(f'results/training_progress_dm_knn_post_{args.top_k}_{args.gamma}.png')\n",
    "    print(f\"Training progress plot saved to training_progress_dm_knn_post_{args.top_k}_{args.gamma}.png\")\n",
    "    \n",
    "    print(\"\\nExperiment completed successfully!\")\n",
    "    \n",
    "    return diffusion, model\n",
    "\n",
    "if __name__ == \"__main__\":\n",
    "    main()"
   ]
  },
  {
   "cell_type": "code",
   "execution_count": null,
   "metadata": {},
   "outputs": [],
   "source": []
  },
  {
   "cell_type": "code",
   "execution_count": null,
   "metadata": {},
   "outputs": [],
   "source": []
  }
 ],
 "metadata": {
  "kernelspec": {
   "display_name": "base",
   "language": "python",
   "name": "python3"
  },
  "language_info": {
   "codemirror_mode": {
    "name": "ipython",
    "version": 3
   },
   "file_extension": ".py",
   "mimetype": "text/x-python",
   "name": "python",
   "nbconvert_exporter": "python",
   "pygments_lexer": "ipython3",
   "version": "3.12.2"
  }
 },
 "nbformat": 4,
 "nbformat_minor": 2
}
